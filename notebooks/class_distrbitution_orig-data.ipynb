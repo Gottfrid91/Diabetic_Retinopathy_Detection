{
 "cells": [
  {
   "cell_type": "code",
   "execution_count": 1,
   "metadata": {
    "collapsed": true
   },
   "outputs": [],
   "source": [
    "\"\"\"Converts MNIST data to TFRecords file format with Example protos.\"\"\"\n",
    "from __future__ import absolute_import\n",
    "from __future__ import division\n",
    "from __future__ import print_function\n",
    "\n",
    "import argparse\n",
    "import os\n",
    "import sys\n",
    "## generating the training batches\n",
    "import numpy as np\n",
    "import scipy.io\n",
    "from array import array\n",
    "import pandas as pd\n",
    "from PIL import Image\n",
    "\n",
    "import tensorflow as tf\n",
    "\n",
    "from matplotlib.pyplot import imshow\n",
    "%matplotlib inline"
   ]
  },
  {
   "cell_type": "code",
   "execution_count": 2,
   "metadata": {
    "collapsed": true
   },
   "outputs": [],
   "source": [
    "def data_list(data_dir, label_dir, num_examples):\n",
    "    '''\n",
    "    imports: pandas, os, numpy, PIL\n",
    "    '''\n",
    "    width = 256\n",
    "    height = 256\n",
    "    #get labels csv into pandas df\n",
    "    #below line assumes \n",
    "    label_file_name = os.listdir(label_dir)[0]\n",
    "    label_pd = pd.read_csv(label_dir + label_file_name)\n",
    "    #initilize container list\n",
    "    data = [[],[]]\n",
    "    #get filenames om images\n",
    "    filenames = os.listdir(data_dir)\n",
    "    #below loop retrieved the \n",
    "    for im_number in range(28500,num_examples-3500):\n",
    "        #im = Image.open(data_dir + filenames[im_number]).resize((width, height), Image.ANTIALIAS)\n",
    "        #im = np.asarray(im).reshape(1,width, height, 3)\n",
    "        name = filenames[im_number].replace(\".jpeg\", \"\")\n",
    "        label = label_pd.loc[label_pd['image'] == name].iloc[0]['level']\n",
    "        data[0].append(name)\n",
    "        #data[1].append(im)\n",
    "        data[1].append(label)\n",
    "        \n",
    "    return(data)"
   ]
  },
  {
   "cell_type": "code",
   "execution_count": 3,
   "metadata": {
    "collapsed": true
   },
   "outputs": [],
   "source": [
    "label_dir = '/home/olle/PycharmProjects/Diabetic_Retinopathy_Detection/data/labels/'\n",
    "data_dir = '/home/olle/PycharmProjects/Diabetic_Retinopathy_Detection/data/orig_images/train/'\n"
   ]
  },
  {
   "cell_type": "code",
   "execution_count": 4,
   "metadata": {},
   "outputs": [
    {
     "data": {
      "text/plain": [
       "35126"
      ]
     },
     "execution_count": 4,
     "metadata": {},
     "output_type": "execute_result"
    }
   ],
   "source": [
    "filenames = os.listdir(data_dir)\n",
    "len(filenames)"
   ]
  },
  {
   "cell_type": "code",
   "execution_count": null,
   "metadata": {
    "collapsed": true
   },
   "outputs": [],
   "source": []
  },
  {
   "cell_type": "code",
   "execution_count": 5,
   "metadata": {},
   "outputs": [
    {
     "name": "stdout",
     "output_type": "stream",
     "text": [
      "3126\n"
     ]
    }
   ],
   "source": [
    "filenames = os.listdir(data_dir)\n",
    "num_examples = int(len(filenames))\n",
    "data = data_list(data_dir, label_dir, num_examples)\n",
    "\n",
    "class data_set(object):\n",
    "    pass\n",
    "\n",
    "#train_images = np.vstack(data[1])\n",
    "train_labels = np.asarray(data[1])\n",
    "\n",
    "    #train_images = train_images.transpose()\n",
    "    #train_images = np.swapaxes(train_images, 1, 3)\n",
    "\n",
    "#data_set.images = train_images\n",
    "data_set.labels = train_labels\n",
    "data_set.names = data[0]\n",
    "data_set.num_examples = data_set.labels.shape[0]\n",
    "\n",
    "#print(data[2])\n",
    "#print(data_set.labels)\n",
    "#print(data_set.images.shape)\n",
    "#print(\"data_batch_{}.bin\".format(i))\n",
    "    \n",
    "print(data_set.num_examples)"
   ]
  },
  {
   "cell_type": "code",
   "execution_count": 6,
   "metadata": {
    "collapsed": true
   },
   "outputs": [],
   "source": [
    "train_class_dist = np.unique(data_set.labels,  return_counts=True)"
   ]
  },
  {
   "cell_type": "code",
   "execution_count": 11,
   "metadata": {},
   "outputs": [
    {
     "data": {
      "text/plain": [
       "array([0.74504159, 0.06333973, 0.14107486, 0.02463212, 0.02591171])"
      ]
     },
     "execution_count": 11,
     "metadata": {},
     "output_type": "execute_result"
    }
   ],
   "source": [
    "test_class_dist = np.unique(data_set.labels,  return_counts=True)\n",
    "test_class_dist[1]/data_set.num_examples"
   ]
  },
  {
   "cell_type": "code",
   "execution_count": 8,
   "metadata": {},
   "outputs": [
    {
     "data": {
      "text/plain": [
       "(array([0, 1, 2, 3, 4]), array([2329,  198,  441,   77,   81]))"
      ]
     },
     "execution_count": 8,
     "metadata": {},
     "output_type": "execute_result"
    }
   ],
   "source": [
    "validation_class_dist = np.unique(data_set.labels,  return_counts=True)\n",
    "validation_class_dist"
   ]
  },
  {
   "cell_type": "code",
   "execution_count": 9,
   "metadata": {},
   "outputs": [
    {
     "name": "stdout",
     "output_type": "stream",
     "text": [
      "0\n"
     ]
    },
    {
     "ename": "AttributeError",
     "evalue": "type object 'data_set' has no attribute 'images'",
     "output_type": "error",
     "traceback": [
      "\u001b[0;31m---------------------------------------------------------------------------\u001b[0m",
      "\u001b[0;31mAttributeError\u001b[0m                            Traceback (most recent call last)",
      "\u001b[0;32m<ipython-input-9-4f59cb1acbab>\u001b[0m in \u001b[0;36m<module>\u001b[0;34m()\u001b[0m\n\u001b[1;32m      1\u001b[0m \u001b[0;31m#see so image is correct\u001b[0m\u001b[0;34m\u001b[0m\u001b[0;34m\u001b[0m\u001b[0m\n\u001b[1;32m      2\u001b[0m \u001b[0;32mprint\u001b[0m\u001b[0;34m(\u001b[0m\u001b[0mdata_set\u001b[0m\u001b[0;34m.\u001b[0m\u001b[0mlabels\u001b[0m\u001b[0;34m[\u001b[0m\u001b[0;36m0\u001b[0m\u001b[0;34m]\u001b[0m\u001b[0;34m)\u001b[0m\u001b[0;34m\u001b[0m\u001b[0m\n\u001b[0;32m----> 3\u001b[0;31m \u001b[0mimshow\u001b[0m\u001b[0;34m(\u001b[0m\u001b[0mdata_set\u001b[0m\u001b[0;34m.\u001b[0m\u001b[0mimages\u001b[0m\u001b[0;34m[\u001b[0m\u001b[0;36m0\u001b[0m\u001b[0;34m]\u001b[0m\u001b[0;34m)\u001b[0m\u001b[0;34m\u001b[0m\u001b[0m\n\u001b[0m",
      "\u001b[0;31mAttributeError\u001b[0m: type object 'data_set' has no attribute 'images'"
     ]
    }
   ],
   "source": [
    "#see so image is correct\n",
    "print(data_set.labels[0])\n",
    "imshow(data_set.images[0])"
   ]
  },
  {
   "cell_type": "code",
   "execution_count": null,
   "metadata": {
    "collapsed": true
   },
   "outputs": [],
   "source": [
    "type(np.asarray(data[2]))"
   ]
  },
  {
   "cell_type": "code",
   "execution_count": 20,
   "metadata": {},
   "outputs": [
    {
     "data": {
      "text/plain": [
       "array([ 1, 15,  7, 40, 38], dtype=int32)"
      ]
     },
     "execution_count": 20,
     "metadata": {},
     "output_type": "execute_result"
    }
   ],
   "source": [
    "dist = np.array([0.74504159, 0.06333973, 0.14107486, 0.02463212, 0.02591171])\n",
    "factors = 1/dist\n",
    "np.asarray(factors, dtype=np.int32)"
   ]
  },
  {
   "cell_type": "code",
   "execution_count": 25,
   "metadata": {},
   "outputs": [
    {
     "data": {
      "text/plain": [
       "15"
      ]
     },
     "execution_count": 25,
     "metadata": {},
     "output_type": "execute_result"
    }
   ],
   "source": [
    "    class_factors = np.array([ 1, 15,  7, 40, 38])\n",
    "class_factors[1]"
   ]
  },
  {
   "cell_type": "code",
   "execution_count": 19,
   "metadata": {},
   "outputs": [
    {
     "name": "stdout",
     "output_type": "stream",
     "text": [
      "[array([ 1, 14,  6, 40, 49], dtype=int32), array([25810,  2443,  5292,   873,   708]), array([0.73478335, 0.06954962, 0.15065763, 0.02485338, 0.02015601])]\n"
     ]
    }
   ],
   "source": [
    "label_pd = pd.read_csv(label_dir + 'trainLabels.csv')\n",
    "unique, counts = np.unique(label_pd['level'], return_counts = True)\n",
    "props = counts/np.sum(counts)\n",
    "factors = np.asarray(1/props, dtype = np.int32)\n",
    "print([factors, counts,props])"
   ]
  },
  {
   "cell_type": "code",
   "execution_count": 39,
   "metadata": {},
   "outputs": [
    {
     "data": {
      "text/plain": [
       "[1, 1, 1, 1, 1, 1, 1, 1, 1, 1, 1, 1, 1, 1, 1]"
      ]
     },
     "execution_count": 39,
     "metadata": {},
     "output_type": "execute_result"
    }
   ],
   "source": [
    "l"
   ]
  },
  {
   "cell_type": "code",
   "execution_count": null,
   "metadata": {
    "collapsed": true
   },
   "outputs": [],
   "source": [
    "data_dir = '/home/olle/PycharmProjects/Diabetic_Retinopathy_Detection/data/train/train/'\n",
    "filenames = os.listdir(data_dir)\n",
    "len(filenames)"
   ]
  },
  {
   "cell_type": "code",
   "execution_count": null,
   "metadata": {
    "collapsed": true
   },
   "outputs": [],
   "source": [
    "list = [2,3,4,5]\n",
    "list"
   ]
  },
  {
   "cell_type": "code",
   "execution_count": null,
   "metadata": {
    "collapsed": true
   },
   "outputs": [],
   "source": [
    "np.asarray(list).reshape(4,1).shape"
   ]
  },
  {
   "cell_type": "code",
   "execution_count": null,
   "metadata": {
    "collapsed": true
   },
   "outputs": [],
   "source": [
    "list.append(np.array([4,3,5]))"
   ]
  },
  {
   "cell_type": "code",
   "execution_count": null,
   "metadata": {
    "collapsed": true
   },
   "outputs": [],
   "source": [
    "list"
   ]
  },
  {
   "cell_type": "code",
   "execution_count": null,
   "metadata": {
    "collapsed": true
   },
   "outputs": [],
   "source": []
  }
 ],
 "metadata": {
  "kernelspec": {
   "display_name": "Python [conda env:tensorflow]",
   "language": "python",
   "name": "conda-env-tensorflow-py"
  },
  "language_info": {
   "codemirror_mode": {
    "name": "ipython",
    "version": 2
   },
   "file_extension": ".py",
   "mimetype": "text/x-python",
   "name": "python",
   "nbconvert_exporter": "python",
   "pygments_lexer": "ipython2",
   "version": "2.7.14"
  }
 },
 "nbformat": 4,
 "nbformat_minor": 2
}
