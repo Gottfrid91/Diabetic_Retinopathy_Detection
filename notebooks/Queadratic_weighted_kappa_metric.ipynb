{
 "cells": [
  {
   "cell_type": "markdown",
   "metadata": {},
   "source": [
    "# Implementation below implements the weighted kappa metic for result benchmarking"
   ]
  },
  {
   "cell_type": "code",
   "execution_count": 23,
   "metadata": {
    "collapsed": true
   },
   "outputs": [],
   "source": [
    "import tensorflow as tf\n",
    "import numpy as np\n",
    "from sklearn.metrics import confusion_matrix"
   ]
  },
  {
   "cell_type": "code",
   "execution_count": 62,
   "metadata": {
    "collapsed": true
   },
   "outputs": [],
   "source": [
    "arr1 = np.array([0,1,0,0,0,1,1,1,1,1])\n",
    "arr2 = np.array([3,3,3,3,3,3,3,3,3,3])"
   ]
  },
  {
   "cell_type": "code",
   "execution_count": 63,
   "metadata": {},
   "outputs": [
    {
     "data": {
      "text/plain": [
       "array([3])"
      ]
     },
     "execution_count": 63,
     "metadata": {},
     "output_type": "execute_result"
    }
   ],
   "source": [
    "np.unique(arr2)"
   ]
  },
  {
   "cell_type": "code",
   "execution_count": 64,
   "metadata": {
    "collapsed": true
   },
   "outputs": [],
   "source": [
    "cm = confusion_matrix(y_true=arr1,y_pred=arr2)"
   ]
  },
  {
   "cell_type": "code",
   "execution_count": null,
   "metadata": {
    "collapsed": true
   },
   "outputs": [],
   "source": [
    "cm"
   ]
  },
  {
   "cell_type": "code",
   "execution_count": 75,
   "metadata": {
    "collapsed": true
   },
   "outputs": [],
   "source": [
    "import numpy as np\n",
    "\n",
    "def quadratic_kappa(y, t, eps=1e-15):\n",
    "    \n",
    "    n_y_values = np.max(y) + 1\n",
    "    n_t_values = np.max(t) + 1\n",
    "    n = max(n_y_values, n_t_values)\n",
    "    y_onehot = np.eye(n)[y]\n",
    "    t_onehot = np.eye(n)[t]\n",
    "    \n",
    "    print(y_onehot)\n",
    "    print(t_onehot)\n",
    "    # Assuming y and t are one-hot encoded!\n",
    "    num_scored_items = y_onehot.shape[0]\n",
    "    \n",
    "    num_ratings = y_onehot.shape[1] \n",
    "    ratings_mat = np.tile(np.arange(0, num_ratings)[:, None], \n",
    "                        reps=(1, num_ratings))\n",
    "    ratings_squared = (ratings_mat - ratings_mat.T) ** 2\n",
    "    weights = ratings_squared / (float(num_ratings) - 1) ** 2\n",
    "\n",
    "    # We norm for consistency with other variations.\n",
    "    y_norm = y_onehot / (eps + y_onehot.sum(axis=1)[:, None])\n",
    "\n",
    "    # The histograms of the raters.\n",
    "    hist_rater_a = y_norm.sum(axis=0)\n",
    "    hist_rater_b = t_onehot.sum(axis=0)\n",
    "\n",
    "    # The confusion matrix.\n",
    "    conf_mat = np.dot(y_norm.T, t_onehot)\n",
    "    print(weights.shape)\n",
    "    print(conf_mat.shape)\n",
    "    # The nominator.\n",
    "    nom = np.sum(weights * conf_mat)\n",
    "    expected_probs = np.dot(hist_rater_a[:, None], \n",
    "                          hist_rater_b[None, :])\n",
    "    # The denominator.\n",
    "    denom = np.sum(weights * expected_probs / num_scored_items)\n",
    "\n",
    "    return 1 - nom / denom"
   ]
  },
  {
   "cell_type": "code",
   "execution_count": 76,
   "metadata": {},
   "outputs": [
    {
     "name": "stdout",
     "output_type": "stream",
     "text": [
      "[[1. 0. 0. 0.]\n",
      " [0. 1. 0. 0.]\n",
      " [1. 0. 0. 0.]\n",
      " [1. 0. 0. 0.]\n",
      " [1. 0. 0. 0.]\n",
      " [0. 1. 0. 0.]\n",
      " [0. 1. 0. 0.]\n",
      " [0. 1. 0. 0.]\n",
      " [0. 1. 0. 0.]\n",
      " [0. 1. 0. 0.]]\n",
      "[[0. 0. 0. 1.]\n",
      " [0. 0. 0. 1.]\n",
      " [0. 0. 0. 1.]\n",
      " [0. 0. 0. 1.]\n",
      " [0. 0. 0. 1.]\n",
      " [0. 0. 0. 1.]\n",
      " [0. 0. 0. 1.]\n",
      " [0. 0. 0. 1.]\n",
      " [0. 0. 0. 1.]\n",
      " [0. 0. 0. 1.]]\n",
      "(4, 4)\n",
      "(4, 4)\n"
     ]
    },
    {
     "data": {
      "text/plain": [
       "0.0"
      ]
     },
     "execution_count": 76,
     "metadata": {},
     "output_type": "execute_result"
    }
   ],
   "source": [
    "quadratic_kappa(arr1, arr2)"
   ]
  }
 ],
 "metadata": {
  "kernelspec": {
   "display_name": "Python [conda env:tensorflow]",
   "language": "python",
   "name": "conda-env-tensorflow-py"
  },
  "language_info": {
   "codemirror_mode": {
    "name": "ipython",
    "version": 2
   },
   "file_extension": ".py",
   "mimetype": "text/x-python",
   "name": "python",
   "nbconvert_exporter": "python",
   "pygments_lexer": "ipython2",
   "version": "2.7.14"
  }
 },
 "nbformat": 4,
 "nbformat_minor": 2
}
