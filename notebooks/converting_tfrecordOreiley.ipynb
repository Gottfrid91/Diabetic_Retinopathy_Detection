{
 "cells": [
  {
   "cell_type": "code",
   "execution_count": null,
   "metadata": {
    "collapsed": true
   },
   "outputs": [],
   "source": [
    "# -*- coding: utf-8 -*-\n",
    "\"\"\"\n",
    "Created on Thu Feb 23 15:59:07 2017\n",
    "@author: tomhope\n",
    "\"\"\"\n",
    "\n",
    "from __future__ import print_function\n",
    "import os\n",
    "import tensorflow as tf\n",
    "from tensorflow.contrib.learn.python.learn.datasets import mnist\n",
    "import numpy as np"
   ]
  },
  {
   "cell_type": "code",
   "execution_count": null,
   "metadata": {},
   "outputs": [],
   "source": [
    "## generating the training batches\n",
    "import numpy as np\n",
    "import scipy.io\n",
    "from array import array\n",
    "import tensorflow as tf\n",
    "read_input = scipy.io.loadmat('data_format_2/train_32x32.mat')\n",
    "\n",
    "class data_set(object):\n",
    "    pass\n",
    "result = data_set()\n",
    "\n",
    "data_set.images = read_input['X'].reshape(73257,32,32,3)\n",
    "data_set.labels = read_input['y']\n",
    "data_set.number_of_examples = read_input['y'].shape[0]"
   ]
  },
  {
   "cell_type": "code",
   "execution_count": null,
   "metadata": {},
   "outputs": [],
   "source": [
    "\n",
    "save_dir = \"./test\"\n",
    "\n",
    "filename = os.path.join(save_dir,'train.tfrecords')\n",
    "writer = tf.python_io.TFRecordWriter(filename)\n",
    "for index in range(data_set.images.shape[0]):\n",
    "    images = data_set.images[index].tostring()\n",
    "    example = tf.train.Example(features=tf.train.Features(\n",
    "        feature={\n",
    "            'height': tf.train.Feature(\n",
    "                int64_list=tf.train.Int64List(\n",
    "                    value=[data_set.images.shape[1]])),\n",
    "            'width': tf.train.Feature(\n",
    "                int64_list=tf.train.Int64List(\n",
    "                    value=[data_set.images.shape[2]])),\n",
    "            'depth': tf.train.Feature(\n",
    "                int64_list=tf.train.Int64List(\n",
    "                    value=[data_set.images.shape[3]])),\n",
    "            'label': tf.train.Feature(\n",
    "                int64_list=tf.train.Int64List(\n",
    "                    value=[int(data_set.labels[index])])),\n",
    "            'image_raw': tf.train.Feature(\n",
    "                bytes_list=tf.train.BytesList(\n",
    "                    value=[images]))}))\n",
    "    writer.write(example.SerializeToString())\n",
    "writer.close()"
   ]
  },
  {
   "cell_type": "code",
   "execution_count": null,
   "metadata": {},
   "outputs": [],
   "source": []
  },
  {
   "cell_type": "code",
   "execution_count": null,
   "metadata": {},
   "outputs": [],
   "source": [
    "\n"
   ]
  },
  {
   "cell_type": "code",
   "execution_count": null,
   "metadata": {},
   "outputs": [],
   "source": []
  },
  {
   "cell_type": "code",
   "execution_count": null,
   "metadata": {},
   "outputs": [],
   "source": []
  },
  {
   "cell_type": "code",
   "execution_count": null,
   "metadata": {},
   "outputs": [],
   "source": [
    "filename = os.path.join(save_dir, 'train.tfrecords')\n",
    "record_iterator = tf.python_io.tf_record_iterator(filename)\n",
    "seralized_img_example = next(record_iterator)\n",
    "\n",
    "example = tf.train.Example()\n",
    "example.ParseFromString(seralized_img_example)\n",
    "image = example.features.feature['image_raw'].bytes_list.value\n",
    "label = example.features.feature['label'].int64_list.value[0]\n",
    "width = example.features.feature['width'].int64_list.value[0]\n",
    "height = example.features.feature['height'].int64_list.value[0]\n",
    "\n",
    "img_flat = np.frombuffer(image[0], dtype=np.uint8)\n",
    "img_reshaped = img_flat.reshape((height, width, -1))\n",
    "print(img_flat)\n",
    "print(label)"
   ]
  },
  {
   "cell_type": "code",
   "execution_count": null,
   "metadata": {},
   "outputs": [],
   "source": [
    "\n",
    "sess= tf.InteractiveSession()"
   ]
  },
  {
   "cell_type": "code",
   "execution_count": null,
   "metadata": {},
   "outputs": [],
   "source": [
    "\n",
    "# READ\n",
    "NUM_EPOCHS = 10\n",
    "\n",
    "filename = os.path.join(\"./test\", \"train.tfrecords\")\n",
    "\n",
    "filename_queue = tf.train.string_input_producer(\n",
    "    [filename], num_epochs=NUM_EPOCHS)\n",
    "\n",
    "\n",
    "reader = tf.TFRecordReader()\n",
    "_, serialized_example = reader.read(filename_queue)\n",
    "features = tf.parse_single_example(\n",
    "    serialized_example,\n",
    "    features={\n",
    "        'image_raw': tf.FixedLenFeature([], tf.string),\n",
    "        'label': tf.FixedLenFeature([], tf.int64),\n",
    "    })\n",
    "\n",
    "image = tf.decode_raw(features['image_raw'], tf.uint8)\n",
    "image.set_shape([32*32*3])\n",
    "\n",
    "\n",
    "image = tf.cast(image, tf.float32) * (1. / 255) - 0.5\n",
    "\n",
    "label = tf.cast(features['label'], tf.int32)\n",
    "\n",
    "\n",
    "# Shuffle the examples + batch\n",
    "images_batch, labels_batch = tf.train.shuffle_batch(\n",
    "    [image, label], batch_size=128,\n",
    "    capacity=2000,\n",
    "    min_after_dequeue=1000)\n",
    "\n",
    "\n",
    "W = tf.get_variable(\"W\", [32*32*3, 10])\n",
    "y_pred = tf.matmul(images_batch, W)\n",
    "loss = tf.nn.sparse_softmax_cross_entropy_with_logits(logits=y_pred, labels=labels_batch)\n",
    "\n",
    "loss_mean = tf.reduce_mean(loss)\n",
    "\n",
    "train_op = tf.train.AdamOptimizer().minimize(loss)\n",
    "\n",
    "sess = tf.Session()\n",
    "init = tf.global_variables_initializer()\n",
    "sess.run(init)\n",
    "init = tf.local_variables_initializer()\n",
    "sess.run(init)\n",
    "\n",
    "\n"
   ]
  },
  {
   "cell_type": "code",
   "execution_count": null,
   "metadata": {},
   "outputs": [],
   "source": [
    "\n",
    "# coordinator\n",
    "coord = tf.train.Coordinator()\n",
    "try:\n",
    "    step = 0\n",
    "    while not coord.should_stop():\n",
    "        step += 1\n",
    "        sess.run([train_op])\n",
    "        if step % 500 == 0:\n",
    "            loss_mean_val = sess.run([loss_mean])\n",
    "            print(step)\n",
    "            print(loss_mean_val)\n",
    "except tf.errors.OutOfRangeError:\n",
    "    print('Done training for %d epochs, %d steps.' % (NUM_EPOCHS, step))\n",
    "finally:\n",
    "    # When done, ask the threads to stop.\n",
    "    coord.request_stop()\n",
    "    \n",
    "# example -- get image,label\n",
    "img1, lbl1 = sess.run([image, label])\n",
    "\n",
    "# example - get random batch\n",
    "labels, images = sess.run([labels_batch, images_batch])"
   ]
  },
  {
   "cell_type": "code",
   "execution_count": null,
   "metadata": {},
   "outputs": [],
   "source": [
    "sess.run(train_op)"
   ]
  },
  {
   "cell_type": "code",
   "execution_count": null,
   "metadata": {
    "collapsed": true
   },
   "outputs": [],
   "source": [
    "\n"
   ]
  },
  {
   "cell_type": "code",
   "execution_count": null,
   "metadata": {
    "collapsed": true
   },
   "outputs": [],
   "source": []
  },
  {
   "cell_type": "code",
   "execution_count": null,
   "metadata": {
    "collapsed": true
   },
   "outputs": [],
   "source": []
  },
  {
   "cell_type": "code",
   "execution_count": null,
   "metadata": {
    "collapsed": true
   },
   "outputs": [],
   "source": []
  },
  {
   "cell_type": "code",
   "execution_count": null,
   "metadata": {
    "collapsed": true
   },
   "outputs": [],
   "source": []
  },
  {
   "cell_type": "code",
   "execution_count": null,
   "metadata": {
    "collapsed": true
   },
   "outputs": [],
   "source": []
  },
  {
   "cell_type": "code",
   "execution_count": null,
   "metadata": {
    "collapsed": true
   },
   "outputs": [],
   "source": []
  },
  {
   "cell_type": "code",
   "execution_count": null,
   "metadata": {},
   "outputs": [],
   "source": []
  },
  {
   "cell_type": "code",
   "execution_count": null,
   "metadata": {},
   "outputs": [],
   "source": []
  },
  {
   "cell_type": "code",
   "execution_count": null,
   "metadata": {},
   "outputs": [],
   "source": [
    "label"
   ]
  }
 ],
 "metadata": {
  "kernelspec": {
   "display_name": "Python [conda env:tensorflow]",
   "language": "python",
   "name": "conda-env-tensorflow-py"
  },
  "language_info": {
   "codemirror_mode": {
    "name": "ipython",
    "version": 2
   },
   "file_extension": ".py",
   "mimetype": "text/x-python",
   "name": "python",
   "nbconvert_exporter": "python",
   "pygments_lexer": "ipython2",
   "version": "2.7.14"
  }
 },
 "nbformat": 4,
 "nbformat_minor": 2
}
