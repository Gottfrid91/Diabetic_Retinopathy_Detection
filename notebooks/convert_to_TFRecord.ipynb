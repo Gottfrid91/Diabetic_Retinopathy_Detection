{
 "cells": [
  {
   "cell_type": "code",
   "execution_count": 1,
   "metadata": {
    "collapsed": true
   },
   "outputs": [],
   "source": [
    "\"\"\"Converts MNIST data to TFRecords file format with Example protos.\"\"\"\n",
    "from __future__ import absolute_import\n",
    "from __future__ import division\n",
    "from __future__ import print_function\n",
    "\n",
    "import argparse\n",
    "import os\n",
    "import sys\n",
    "## generating the training batches\n",
    "import numpy as np\n",
    "import scipy.io\n",
    "from array import array\n",
    "import pandas as pd\n",
    "from PIL import Image\n",
    "\n",
    "import tensorflow as tf\n",
    "\n",
    "from matplotlib.pyplot import imshow\n",
    "%matplotlib inline"
   ]
  },
  {
   "cell_type": "code",
   "execution_count": 7,
   "metadata": {
    "collapsed": true
   },
   "outputs": [],
   "source": [
    "def data_list(data_dir, label_dir, num_examples, k):\n",
    "    '''\n",
    "    imports: pandas, os, numpy, PIL\n",
    "    '''\n",
    "    width = 512\n",
    "    height = 512\n",
    "    #get labels csv into pandas df\n",
    "    #below line assumes \n",
    "    label_file_name = os.listdir(label_dir)[0]\n",
    "    label_pd = pd.read_csv(label_dir + label_file_name)\n",
    "    #initilize container list\n",
    "    data = [[],[],[]]\n",
    "    #get filenames om images\n",
    "    filenames = os.listdir(data_dir)\n",
    "    #below loop retrieved the \n",
    "    for im_number in range(k*num_examples,(k+1)*num_examples):\n",
    "        im = Image.open(data_dir + filenames[im_number]).resize((width, height), Image.ANTIALIAS)\n",
    "        im = np.asarray(im).reshape(1,width, height, 3)\n",
    "        name = filenames[im_number].replace(\".jpeg\", \"\")\n",
    "        label = label_pd.loc[label_pd['image'] == name].iloc[0]['level']\n",
    "        data[0].append(name)\n",
    "        data[1].append(im)\n",
    "        data[2].append(label)\n",
    "        \n",
    "    return(data)"
   ]
  },
  {
   "cell_type": "code",
   "execution_count": 3,
   "metadata": {
    "collapsed": true
   },
   "outputs": [],
   "source": [
    "label_dir = '/home/olle/PycharmProjects/Diabetic_Retinopathy_Detection/data/labels/'\n",
    "data_dir = '/home/olle/PycharmProjects/Diabetic_Retinopathy_Detection/data/orig_images/train/'\n"
   ]
  },
  {
   "cell_type": "code",
   "execution_count": 8,
   "metadata": {},
   "outputs": [
    {
     "data": {
      "text/plain": [
       "35126"
      ]
     },
     "execution_count": 8,
     "metadata": {},
     "output_type": "execute_result"
    }
   ],
   "source": [
    "filenames = os.listdir(data_dir)\n",
    "len(filenames)"
   ]
  },
  {
   "cell_type": "code",
   "execution_count": null,
   "metadata": {
    "collapsed": true
   },
   "outputs": [],
   "source": []
  },
  {
   "cell_type": "code",
   "execution_count": 10,
   "metadata": {},
   "outputs": [
    {
     "name": "stdout",
     "output_type": "stream",
     "text": [
      "(3, 512, 512, 3)\n",
      "786432\n",
      "(3, 512, 512, 3)\n",
      "786432\n",
      "(3, 512, 512, 3)\n",
      "786432\n",
      "(3, 512, 512, 3)\n",
      "786432\n",
      "(3, 512, 512, 3)\n",
      "786432\n",
      "3\n"
     ]
    }
   ],
   "source": [
    "filenames = os.listdir(data_dir)\n",
    "num_examples = int(len(filenames)/10000)\n",
    "for i in range(0,5):\n",
    "    data = data_list(data_dir, label_dir, num_examples, i)\n",
    "    \n",
    "    class data_set(object):\n",
    "        pass\n",
    "\n",
    "    train_images = np.vstack(data[1])\n",
    "    train_labels = np.asarray(data[2])\n",
    "\n",
    "    #train_images = train_images.transpose()\n",
    "    #train_images = np.swapaxes(train_images, 1, 3)\n",
    "\n",
    "    data_set.images = train_images\n",
    "    data_set.labels = train_labels\n",
    "    data_set.names = data[0]\n",
    "    data_set.num_examples = data_set.labels.shape[0]\n",
    "\n",
    "    #print(data[2])\n",
    "    #print(data_set.labels)\n",
    "    print(data_set.images.shape)\n",
    "    print(len(data_set.images[0].tostring()))\n",
    "    #print(\"data_batch_{}.bin\".format(i))\n",
    "    \n",
    "print(data_set.num_examples)"
   ]
  },
  {
   "cell_type": "code",
   "execution_count": 19,
   "metadata": {},
   "outputs": [
    {
     "data": {
      "text/plain": [
       "array([[[0, 0, 0],\n",
       "        [0, 0, 0],\n",
       "        [0, 0, 0],\n",
       "        ...,\n",
       "        [0, 0, 0],\n",
       "        [0, 0, 0],\n",
       "        [0, 0, 0]],\n",
       "\n",
       "       [[0, 0, 0],\n",
       "        [0, 0, 0],\n",
       "        [0, 0, 0],\n",
       "        ...,\n",
       "        [0, 0, 0],\n",
       "        [0, 0, 0],\n",
       "        [0, 0, 0]],\n",
       "\n",
       "       [[0, 0, 0],\n",
       "        [0, 0, 0],\n",
       "        [0, 0, 0],\n",
       "        ...,\n",
       "        [0, 0, 0],\n",
       "        [0, 0, 0],\n",
       "        [0, 0, 0]],\n",
       "\n",
       "       ...,\n",
       "\n",
       "       [[0, 0, 0],\n",
       "        [0, 0, 0],\n",
       "        [0, 0, 0],\n",
       "        ...,\n",
       "        [0, 0, 0],\n",
       "        [0, 0, 0],\n",
       "        [0, 0, 0]],\n",
       "\n",
       "       [[0, 0, 0],\n",
       "        [0, 0, 0],\n",
       "        [0, 0, 0],\n",
       "        ...,\n",
       "        [0, 0, 0],\n",
       "        [0, 0, 0],\n",
       "        [0, 0, 0]],\n",
       "\n",
       "       [[0, 0, 0],\n",
       "        [0, 0, 0],\n",
       "        [0, 0, 0],\n",
       "        ...,\n",
       "        [0, 0, 0],\n",
       "        [0, 0, 0],\n",
       "        [0, 0, 0]]], dtype=uint8)"
      ]
     },
     "execution_count": 19,
     "metadata": {},
     "output_type": "execute_result"
    }
   ],
   "source": [
    "data_set.images[0]\n",
    "#np.ones((3,3)).dtype"
   ]
  },
  {
   "cell_type": "code",
   "execution_count": 20,
   "metadata": {},
   "outputs": [
    {
     "data": {
      "text/plain": [
       "786432"
      ]
     },
     "execution_count": 20,
     "metadata": {},
     "output_type": "execute_result"
    }
   ],
   "source": [
    "len(np.ones((512,512,3)).astype(np.uint8).tostring())"
   ]
  },
  {
   "cell_type": "code",
   "execution_count": 12,
   "metadata": {},
   "outputs": [
    {
     "name": "stdout",
     "output_type": "stream",
     "text": [
      "0\n"
     ]
    },
    {
     "data": {
      "text/plain": [
       "<matplotlib.image.AxesImage at 0x7f8a5529edd0>"
      ]
     },
     "execution_count": 12,
     "metadata": {},
     "output_type": "execute_result"
    },
    {
     "data": {
      "image/png": "[encoded data removed]",
      "text/plain": [
       "<matplotlib.figure.Figure at 0x7f8a576a0290>"
      ]
     },
     "metadata": {},
     "output_type": "display_data"
    }
   ],
   "source": [
    "#see so image is correct\n",
    "print(data_set.labels[0])\n",
    "imshow(data_set.images[0])"
   ]
  },
  {
   "cell_type": "code",
   "execution_count": null,
   "metadata": {
    "collapsed": true
   },
   "outputs": [],
   "source": [
    "type(np.asarray(data[2]))"
   ]
  },
  {
   "cell_type": "code",
   "execution_count": 5,
   "metadata": {
    "collapsed": true
   },
   "outputs": [],
   "source": []
  },
  {
   "cell_type": "code",
   "execution_count": 18,
   "metadata": {},
   "outputs": [
    {
     "data": {
      "text/plain": [
       "'10_left'"
      ]
     },
     "execution_count": 18,
     "metadata": {},
     "output_type": "execute_result"
    }
   ],
   "source": []
  },
  {
   "cell_type": "code",
   "execution_count": null,
   "metadata": {
    "collapsed": true
   },
   "outputs": [],
   "source": []
  },
  {
   "cell_type": "code",
   "execution_count": 19,
   "metadata": {},
   "outputs": [
    {
     "data": {
      "text/plain": [
       "35126"
      ]
     },
     "execution_count": 19,
     "metadata": {},
     "output_type": "execute_result"
    }
   ],
   "source": [
    "data_dir = '/home/olle/PycharmProjects/Diabetic_Retinopathy_Detection/data/train/train/'\n",
    "filenames = os.listdir(data_dir)\n",
    "len(filenames)"
   ]
  },
  {
   "cell_type": "code",
   "execution_count": null,
   "metadata": {
    "collapsed": true
   },
   "outputs": [],
   "source": []
  },
  {
   "cell_type": "code",
   "execution_count": null,
   "metadata": {
    "collapsed": true
   },
   "outputs": [],
   "source": []
  },
  {
   "cell_type": "code",
   "execution_count": null,
   "metadata": {
    "collapsed": true
   },
   "outputs": [],
   "source": []
  },
  {
   "cell_type": "code",
   "execution_count": null,
   "metadata": {
    "collapsed": true
   },
   "outputs": [],
   "source": []
  },
  {
   "cell_type": "code",
   "execution_count": null,
   "metadata": {
    "collapsed": true
   },
   "outputs": [],
   "source": []
  }
 ],
 "metadata": {
  "kernelspec": {
   "display_name": "Python [conda env:tensorflow]",
   "language": "python",
   "name": "conda-env-tensorflow-py"
  },
  "language_info": {
   "codemirror_mode": {
    "name": "ipython",
    "version": 2
   },
   "file_extension": ".py",
   "mimetype": "text/x-python",
   "name": "python",
   "nbconvert_exporter": "python",
   "pygments_lexer": "ipython2",
   "version": "2.7.14"
  }
 },
 "nbformat": 4,
 "nbformat_minor": 2
}
