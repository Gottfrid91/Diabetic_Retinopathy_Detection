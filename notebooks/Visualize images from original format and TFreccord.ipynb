{
 "cells": [
  {
   "cell_type": "markdown",
   "metadata": {},
   "source": [
    "# This notebook aims to visualize the files of created TF records in order to confirm that they have the sought after format"
   ]
  },
  {
   "cell_type": "code",
   "execution_count": 1,
   "metadata": {},
   "outputs": [
    {
     "name": "stdout",
     "output_type": "stream",
     "text": [
      "Populating the interactive namespace from numpy and matplotlib\n"
     ]
    }
   ],
   "source": [
    "import tensorflow as tf\n",
    "import meta\n",
    "%pylab inline\n",
    "\n",
    "from matplotlib.patches import Rectangle\n",
    "import numpy as np\n",
    "\n",
    "from PIL import *\n",
    "from matplotlib import pyplot as plt\n",
    "import os\n",
    "import scipy.io\n",
    "import pandas as pd"
   ]
  },
  {
   "cell_type": "markdown",
   "metadata": {},
   "source": [
    "# visualization of TFrecord file"
   ]
  },
  {
   "cell_type": "code",
   "execution_count": 2,
   "metadata": {
    "collapsed": true
   },
   "outputs": [],
   "source": [
    "data_dir = '/home/olle/PycharmProjects/Diabetic_Retinopathy_Detection/create_tfrecords/data/'\n",
    "\n",
    "filenames = [os.path.join(data_dir, 'data_batch_%d.bin' % i)\n",
    "                     for i in xrange(0, 9)]# Create a queue that produces the filenames to read.\n",
    "filename_queue = tf.train.string_input_producer(filenames)"
   ]
  },
  {
   "cell_type": "code",
   "execution_count": null,
   "metadata": {},
   "outputs": [],
   "source": [
    "type(filename_queue)"
   ]
  },
  {
   "cell_type": "code",
   "execution_count": 3,
   "metadata": {},
   "outputs": [
    {
     "name": "stdout",
     "output_type": "stream",
     "text": [
      "('record bytes::::: ', <tf.Tensor 'Reshape:0' shape=(512, 512, 3) dtype=uint8>)\n"
     ]
    }
   ],
   "source": [
    "class SVHNRecord(object):\n",
    "    pass\n",
    "\n",
    "result = SVHNRecord()\n",
    "\n",
    "# Dimensions of the images in the SVHN dataset.\n",
    "# See http://ufldl.stanford.edu/housenumbers/ for a description of the\n",
    "# input format.\n",
    "result.height = 512\n",
    "result.width = 512\n",
    "result.depth = 3\n",
    "\n",
    "reader = tf.TFRecordReader()\n",
    "result.key, value = reader.read(filename_queue)\n",
    "value = tf.parse_single_example(\n",
    "    value,\n",
    "    # Defaults are not specified since both keys are required.\n",
    "    features={\n",
    "        'image_raw': tf.FixedLenFeature(shape=[], dtype=tf.string),\n",
    "        'label': tf.FixedLenFeature(shape=[], dtype=tf.int64),\n",
    "        'image_name': tf.FixedLenFeature(shape=[], dtype=tf.string),\n",
    "        'image_mean':  tf.FixedLenFeature(shape=[], dtype=tf.float32)\n",
    "\n",
    "    })\n",
    "\n",
    "# Convert from a string to a vector of uint8 that is record_bytes long.\n",
    "record_bytes = tf.decode_raw(value['image_raw'], tf.uint8)\n",
    "# record_bytes.set_shape([32*32*3])\n",
    "record_bytes = tf.reshape(record_bytes, [result.height, result.width, 3])\n",
    "print(\"record bytes::::: \", record_bytes)\n",
    "# Store our label to result.label and convert to int32\n",
    "result.name = tf.cast(value['image_name'], tf.string)\n",
    "\n",
    "result.mean = tf.cast(value['image_mean'], tf.float32)\n",
    "result.label = tf.cast(value['label'], tf.int32)\n",
    "result.uint8image = record_bytes\n",
    "# Image processing for training the network. Note the many random\n",
    "# distortions applied to the image.\n",
    "#crop out black pixels\n",
    "distorted_image = tf.image.central_crop(result.uint8image, 0.9)\n"
   ]
  },
  {
   "cell_type": "code",
   "execution_count": 4,
   "metadata": {
    "collapsed": true
   },
   "outputs": [],
   "source": [
    "sess = tf.InteractiveSession()\n",
    "coord = tf.train.Coordinator()\n",
    "threads = tf.train.start_queue_runners(coord=coord)"
   ]
  },
  {
   "cell_type": "markdown",
   "metadata": {},
   "source": [
    "Below block coutns the file names in the given TFrecord file to ensure that all files in has been written"
   ]
  },
  {
   "cell_type": "code",
   "execution_count": 7,
   "metadata": {},
   "outputs": [
    {
     "name": "stdout",
     "output_type": "stream",
     "text": [
      "set(['33_left', '30_right', '16_left', '10_left', '23_right', '19_left', '17_right', '30_left', '22_left', '15_left', '20_right', '25_right', '21_right', '19_right', '13_right', '15_right', '23_left', '31_right', '25_left', '16_right', '13_left', '22_right', '17_left', '20_left', '21_left', '31_left', '10_right'])\n",
      "27\n"
     ]
    }
   ],
   "source": [
    "# print all filenames\n",
    "names =  []\n",
    "for i in range(0,10000):\n",
    "    names.append(sess.run(result.name))\n",
    "\n",
    "print(set(names))\n",
    "print(len(set(names)))"
   ]
  },
  {
   "cell_type": "code",
   "execution_count": null,
   "metadata": {
    "collapsed": true
   },
   "outputs": [],
   "source": [
    "orig_dir = '/home/olle/PycharmProjects/Diabetic_Retinopathy_Detection/data/orig_images/train'\n",
    "import os\n",
    "for count, filename in enumerate(sorted(os.listdir(orig_dir)), start=1):\n",
    "    #print('Enter {} to select {}'.format(count, filename))"
   ]
  },
  {
   "cell_type": "code",
   "execution_count": null,
   "metadata": {},
   "outputs": [],
   "source": [
    "image_val, label, name, mean = sess.run([distorted_image, result.label, result.name, result.mean])\n",
    "img = Image.fromarray(image_val, 'RGB')\n",
    "print(image_val.shape)\n",
    "\n",
    "print(mean)\n",
    "#print(image_val)\n",
    "print(type(image_val))\n",
    "print(image_val.dtype)\n",
    "print(np.mean(image_val))\n",
    "print(np.std(image_val))\n",
    "\n",
    "print('label is {} and name is {}'.format(label, name))\n",
    "\n",
    "plt.imshow(img, interpolation='nearest')\n",
    "plt.figure(figsize=(40,40))\n",
    "plt.show()"
   ]
  },
  {
   "cell_type": "markdown",
   "metadata": {
    "collapsed": true
   },
   "source": [
    "# visualization of .mat file image"
   ]
  },
  {
   "cell_type": "code",
   "execution_count": null,
   "metadata": {
    "collapsed": true
   },
   "outputs": [],
   "source": [
    "def data_list(data_dir, label_dir):\n",
    "    '''\n",
    "    imports: pandas, os, numpy, PIL\n",
    "    '''\n",
    "    import pandas as pd\n",
    "    from PIL import Image\n",
    "    import numpy as np\n",
    "    #get labels csv into pandas df\n",
    "    #below line assumes \n",
    "    label_file_name = os.listdir(label_dir)[0]\n",
    "    label_pd = pd.read_csv(label_dir + label_file_name)\n",
    "    #initilize container list\n",
    "    data = [[],[],[]]\n",
    "    #get filenames om images\n",
    "    filenames = os.listdir(data_dir)\n",
    "    #below loop retrieved the \n",
    "    for im_name in filenames:\n",
    "        im = np.asarray(Image.open(data_dir + im_name))\n",
    "        name = im_name.replace(\".jpeg\", \"\")\n",
    "        label = label_pd.loc[label_pd['image'] == name].iloc[0]['level']\n",
    "        data[0].append(name)\n",
    "        data[1].append(im)\n",
    "        data[2].append(label)\n",
    "        \n",
    "    return(data)"
   ]
  },
  {
   "cell_type": "code",
   "execution_count": null,
   "metadata": {
    "collapsed": true
   },
   "outputs": [],
   "source": [
    "import matplotlib.pyplot as plt\n",
    "%matplotlib inline\n",
    "label_dir = '/home/olle/PycharmProjects/Diabetic_Retinopathy_Detection/data/labels/'\n",
    "data_dir = '/home/olle/PycharmProjects/Diabetic_Retinopathy_Detection/data/sample/'\n",
    "data = data_list(data_dir, label_dir)\n",
    "plt.figure(figsize=(20,10))\n",
    "columns = 5\n",
    "for i, image in enumerate(data[1]):\n",
    "    ax = plt.subplot(len(data[1]) / columns + 1, columns, i + 1)\n",
    "    ax.set_title(\"Level is {}, name is {}\".format(data[2][i], data[0][i]))\n",
    "    ax.imshow(image)"
   ]
  },
  {
   "cell_type": "code",
   "execution_count": null,
   "metadata": {
    "collapsed": true
   },
   "outputs": [],
   "source": [
    "label_file_name = os.listdir(label_dir)[0]\n",
    "label_pd = pd.read_csv(label_dir + label_file_name)\n",
    "label_pd[3490:3500]"
   ]
  },
  {
   "cell_type": "code",
   "execution_count": null,
   "metadata": {
    "collapsed": true
   },
   "outputs": [],
   "source": [
    "for i in range(0,10):\n",
    "    print(label_pd['image'].values[i]+\".jpeg\")\n",
    "    print(type(label_pd['image'].values[i]))"
   ]
  },
  {
   "cell_type": "code",
   "execution_count": null,
   "metadata": {
    "collapsed": true
   },
   "outputs": [],
   "source": [
    "for i in range(0,10):\n",
    "    print(os.listdir(orig_dir)[i])\n",
    "    print(type(os.listdir(orig_dir)[i]))\n",
    "\n"
   ]
  }
 ],
 "metadata": {
  "kernelspec": {
   "display_name": "Python [conda env:tensorflow]",
   "language": "python",
   "name": "conda-env-tensorflow-py"
  },
  "language_info": {
   "codemirror_mode": {
    "name": "ipython",
    "version": 2
   },
   "file_extension": ".py",
   "mimetype": "text/x-python",
   "name": "python",
   "nbconvert_exporter": "python",
   "pygments_lexer": "ipython2",
   "version": "2.7.14"
  }
 },
 "nbformat": 4,
 "nbformat_minor": 2
}
