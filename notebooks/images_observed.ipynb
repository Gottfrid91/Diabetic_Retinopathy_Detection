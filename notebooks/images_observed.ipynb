{
 "cells": [
  {
   "cell_type": "markdown",
   "metadata": {},
   "source": [
    "# See how many and how many unique images classifier trained on during 12 hours and what classes these images have"
   ]
  },
  {
   "cell_type": "code",
   "execution_count": 1,
   "metadata": {
    "collapsed": true
   },
   "outputs": [],
   "source": [
    "import tensorflow as tf\n",
    "import os \n",
    "import numpy as np\n",
    "import pandas as pd\n",
    "import re"
   ]
  },
  {
   "cell_type": "code",
   "execution_count": 2,
   "metadata": {},
   "outputs": [],
   "source": [
    "file_dir = '/home/olle/PycharmProjects/Diabetic_Retinopathy_Detection/output/images_visited/'\n",
    "label_dir = '/home/olle/PycharmProjects/Diabetic_Retinopathy_Detection/data/labels/'\n",
    "label_file_name = os.listdir(label_dir)[0]\n",
    "filelist = os.listdir(file_dir)"
   ]
  },
  {
   "cell_type": "code",
   "execution_count": 14,
   "metadata": {},
   "outputs": [],
   "source": [
    "def get_reviewd_im(filelist):\n",
    "\n",
    "    all_names = []\n",
    "    for j in filelist:\n",
    "        with open(file_dir + j) as f:\n",
    "            lines = f.read().splitlines()\n",
    "            all_names.append(lines)\n",
    "    new_list = []\n",
    "    for lines in all_names:\n",
    "        for i in range(0,len(lines)):\n",
    "            #pd.DataFrame(lines[i].strip(\"[\").strip(\"]\").split(' '))\n",
    "            new_list.append(lines[i].strip(\"[\").strip(\"]\").split(' '))\n",
    "    full_df = pd.DataFrame(new_list)\n",
    "    final_df = full_df.stack(level=-1, dropna=True)[:,1]\n",
    "\n",
    "    numer_of_unique_im = pd.unique(final_df).shape\n",
    "    number_of_im = final_df.shape\n",
    "    \n",
    "    return numer_of_unique_im, number_of_im, final_df.str.replace(\"'\", '')\n"
   ]
  },
  {
   "cell_type": "code",
   "execution_count": 15,
   "metadata": {},
   "outputs": [],
   "source": [
    "numer_of_unique_im, number_of_im, final_df = get_reviewd_im(filelist)"
   ]
  },
  {
   "cell_type": "code",
   "execution_count": 5,
   "metadata": {},
   "outputs": [],
   "source": [
    "label_pd = pd.read_csv(label_dir + label_file_name)"
   ]
  },
  {
   "cell_type": "code",
   "execution_count": 31,
   "metadata": {},
   "outputs": [
    {
     "data": {
      "text/plain": [
       "(1136,)"
      ]
     },
     "execution_count": 31,
     "metadata": {},
     "output_type": "execute_result"
    }
   ],
   "source": []
  },
  {
   "cell_type": "code",
   "execution_count": 44,
   "metadata": {},
   "outputs": [
    {
     "data": {
      "text/plain": [
       "(array([0, 1, 2, 3, 4]), array([522, 198, 273,  82,  61]))"
      ]
     },
     "execution_count": 44,
     "metadata": {},
     "output_type": "execute_result"
    }
   ],
   "source": [
    "labels_evaluated = label_pd.loc[label_pd['image'].isin(final_df.unique())]['level']\n",
    "np.unique(np.asarray(labels_evaluated), return_counts = True)"
   ]
  },
  {
   "cell_type": "code",
   "execution_count": null,
   "metadata": {
    "collapsed": true
   },
   "outputs": [],
   "source": []
  }
 ],
 "metadata": {
  "kernelspec": {
   "display_name": "Python [conda env:tensorflow]",
   "language": "python",
   "name": "conda-env-tensorflow-py"
  },
  "language_info": {
   "codemirror_mode": {
    "name": "ipython",
    "version": 2
   },
   "file_extension": ".py",
   "mimetype": "text/x-python",
   "name": "python",
   "nbconvert_exporter": "python",
   "pygments_lexer": "ipython2",
   "version": "2.7.14"
  }
 },
 "nbformat": 4,
 "nbformat_minor": 2
}
